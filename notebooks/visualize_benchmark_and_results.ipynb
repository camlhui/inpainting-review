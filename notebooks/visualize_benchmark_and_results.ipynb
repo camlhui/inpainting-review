{
  "cells": [
    {
      "cell_type": "code",
      "execution_count": null,
      "metadata": {
        "colab": {
          "base_uri": "https://localhost:8080/"
        },
        "id": "BWfwOp4EpHUi",
        "outputId": "e0b7d623-9166-4664-8292-7378c3f28250"
      },
      "outputs": [],
      "source": [
        "!git clone https://github.com/camlhui/inpainting-review.git"
      ]
    },
    {
      "cell_type": "code",
      "execution_count": null,
      "metadata": {
        "colab": {
          "base_uri": "https://localhost:8080/"
        },
        "id": "5uGhvtIspIU7",
        "outputId": "e74dcf6f-e721-4762-cb74-e227164bafac"
      },
      "outputs": [],
      "source": [
        "%cd /content/inpainting-review/src\n",
        "!git pull"
      ]
    },
    {
      "cell_type": "code",
      "execution_count": null,
      "metadata": {
        "colab": {
          "base_uri": "https://localhost:8080/"
        },
        "id": "nDKbFOjIpJwU",
        "outputId": "b007548e-0dd2-4f73-dfae-d6b97712b487"
      },
      "outputs": [],
      "source": [
        "from google.colab import drive\n",
        "import os\n",
        "\n",
        "\n",
        "drive.mount('/content/drive')\n",
        "\n",
        "DATA_DIR = '/content/drive/MyDrive/Colab storage/inpainting-review'"
      ]
    },
    {
      "cell_type": "code",
      "execution_count": null,
      "metadata": {
        "colab": {
          "base_uri": "https://localhost:8080/"
        },
        "id": "n9kH_pyipLRm",
        "outputId": "a4633ecd-abb5-4943-f03d-c7804343f267"
      },
      "outputs": [],
      "source": [
        "%cd /content/inpainting-review/src\n",
        "\n",
        "import json\n",
        "import os\n",
        "from inpainting_review.models import InpaintingTask\n",
        "from inpainting_review.utils.image import load_and_preprocess_image, load_and_preprocess_mask\n",
        "\n",
        "\n",
        "with open(\"inpainting_review/tasks.json\") as f:\n",
        "    tasks = [InpaintingTask(**t) for t in json.load(f)[\"tasks\"]]\n",
        "\n",
        "image = load_and_preprocess_image(os.path.join(os.environ['DATA_DIR'], tasks[0].source_image))\n",
        "mask = load_and_preprocess_mask(os.path.join(os.environ['DATA_DIR'], tasks[0].mask_image))\n",
        "prompt = tasks[0].prompt"
      ]
    },
    {
      "cell_type": "markdown",
      "metadata": {
        "id": "aMq5HNy5zGBN"
      },
      "source": [
        "# Benchmark dataset"
      ]
    },
    {
      "cell_type": "code",
      "execution_count": 34,
      "metadata": {
        "id": "sAgBES5Ozo_q"
      },
      "outputs": [],
      "source": [
        "from PIL import Image\n",
        "\n",
        "\n",
        "def merge_image_and_mask(image: Image, mask: Image, mask_color=(255, 0, 0, 90)):\n",
        "    image = image.convert(\"RGBA\")\n",
        "    mask = mask.convert(\"L\")\n",
        "\n",
        "    mask_color = (255, 0, 0, 128)\n",
        "    colored_mask = Image.new(\"RGBA\", image.size, mask_color)\n",
        "    mask_overlay = Image.composite(colored_mask, Image.new(\"RGBA\", image.size, (0, 0, 0, 0)), mask)\n",
        "\n",
        "    return Image.alpha_composite(image, mask_overlay)"
      ]
    },
    {
      "cell_type": "markdown",
      "metadata": {},
      "source": [
        "## Samples"
      ]
    },
    {
      "cell_type": "code",
      "execution_count": null,
      "metadata": {
        "colab": {
          "base_uri": "https://localhost:8080/",
          "height": 1000
        },
        "collapsed": true,
        "id": "y7-_tHbs1W1S",
        "outputId": "b7b505e8-e85e-4dc0-9ea0-a9d338a41611"
      },
      "outputs": [],
      "source": [
        "import matplotlib.pyplot as plt\n",
        "%matplotlib inline\n",
        "import textwrap\n",
        "\n",
        "from inpainting_review.utils.image import load_and_preprocess_image, load_and_preprocess_mask\n",
        "\n",
        "\n",
        "fig, ax = plt.subplots(len(tasks), 2, figsize=(5*2, 4*len(tasks)))\n",
        "\n",
        "for i, task in enumerate(tasks):\n",
        "    image = load_and_preprocess_image(os.path.join(DATA_DIR, task.source_image))\n",
        "    mask = load_and_preprocess_mask(os.path.join(DATA_DIR, task.mask_image))\n",
        "    ax[i, 0].imshow(merge_image_and_mask(image, mask))\n",
        "    ax[i, 0].set_title(task.task_id)\n",
        "    ax[i, 0].axis(\"off\")\n",
        "\n",
        "    wrapper = textwrap.TextWrapper(width=50)\n",
        "    positive_prompt = wrapper.fill(f\"Positive: {task.prompt}\")\n",
        "    negative_prompt = wrapper.fill(f\"Negative: {task.negative_prompt}\")\n",
        "    full_prompt_text = f\"{positive_prompt}\\n\\n\\n{negative_prompt}\"\n",
        "    ax[i, 1].text(0.5, 0.6, full_prompt_text, ha='center', va='center', wrap=True, fontsize=10)\n",
        "    ax[i, 1].set_title(\"Prompts\")\n",
        "    ax[i, 1].axis(\"off\")\n",
        "\n",
        "fig.tight_layout()\n",
        "fig.savefig(os.path.join(DATA_DIR, \"outputs\", \"benchmark.png\"), dpi=150)"
      ]
    },
    {
      "cell_type": "markdown",
      "metadata": {},
      "source": [
        "## Grid"
      ]
    },
    {
      "cell_type": "code",
      "execution_count": null,
      "metadata": {},
      "outputs": [],
      "source": [
        "fig, ax = plt.subplots(3, 4, figsize=(4*4, 3*3))\n",
        "\n",
        "for k, task in enumerate(tasks):\n",
        "    image = load_and_preprocess_image(os.path.join(DATA_DIR, task.source_image))\n",
        "    mask = load_and_preprocess_mask(os.path.join(DATA_DIR, task.mask_image))\n",
        "    i, j = k // 4, k % 4\n",
        "    ax[i, j].imshow(merge_image_and_mask(image, mask))\n",
        "    ax[i,j].set_title(task.task_id)\n",
        "    ax[i, j].axis(\"off\")\n",
        "\n",
        "ax[2, 2].axis(\"off\")\n",
        "ax[2, 3].axis(\"off\")\n",
        "fig.tight_layout()\n",
        "fig.savefig(os.path.join(DATA_DIR, \"outputs\", \"benchmark_grid.png\"), dpi=150)"
      ]
    },
    {
      "cell_type": "markdown",
      "metadata": {
        "id": "HfCvJoxB6hsc"
      },
      "source": [
        "# Results"
      ]
    },
    {
      "cell_type": "code",
      "execution_count": null,
      "metadata": {
        "colab": {
          "base_uri": "https://localhost:8080/",
          "height": 1000
        },
        "id": "BM4DTeFV68O3",
        "outputId": "3abf8934-35b0-4d29-98bd-dcb69e8f6bda"
      },
      "outputs": [],
      "source": [
        "models = [item for item in os.listdir(os.path.join(DATA_DIR, \"outputs\"))\n",
        "          if os.path.isdir(os.path.join(DATA_DIR, \"outputs\", item))]\n",
        "\n",
        "for model in models:\n",
        "    fig, ax = plt.subplots(len(tasks), 4, figsize=(4*4, 5*len(tasks)))\n",
        "\n",
        "    for i, task in enumerate(tasks):\n",
        "        image = load_and_preprocess_image(os.path.join(DATA_DIR, task.source_image))\n",
        "        mask = load_and_preprocess_mask(os.path.join(DATA_DIR, task.mask_image))\n",
        "\n",
        "        ax[i, 0].imshow(merge_image_and_mask(image, mask))\n",
        "        ax[i, 0].set_title(task.task_id)\n",
        "        ax[i, 0].axis(\"off\")\n",
        "\n",
        "        trials = [item for item in os.listdir(os.path.join(DATA_DIR, \"outputs\", model))\n",
        "                  if os.path.isdir(os.path.join(DATA_DIR, \"outputs\", model, item))]\n",
        "        trials = sorted(trials, reverse=True)[:3]\n",
        "\n",
        "        for j in range(3):\n",
        "            image_path = os.path.join(DATA_DIR, \"outputs\", model, trials[j], f\"{task.task_id}.png\")\n",
        "            if os.path.exists(image_path):\n",
        "                image = load_and_preprocess_image(image_path)\n",
        "                ax[i, j+1].imshow(image)\n",
        "                ax[i, j+1].set_title(f\"trial {j+1}\")\n",
        "                ax[i, j+1].axis(\"off\")\n",
        "\n",
        "    fig.tight_layout()\n",
        "    fig.savefig(os.path.join(DATA_DIR, \"outputs\", model, \"results.png\"), dpi=150)"
      ]
    }
  ],
  "metadata": {
    "colab": {
      "provenance": []
    },
    "kernelspec": {
      "display_name": "Python 3",
      "name": "python3"
    },
    "language_info": {
      "name": "python"
    }
  },
  "nbformat": 4,
  "nbformat_minor": 0
}
