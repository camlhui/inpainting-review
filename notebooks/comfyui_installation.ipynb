{
 "cells": [
  {
   "cell_type": "markdown",
   "metadata": {},
   "source": [
    "# ComfyUI Installation"
   ]
  },
  {
   "cell_type": "code",
   "execution_count": null,
   "metadata": {},
   "outputs": [],
   "source": [
    "INSTALL_DIR = \"\"\n",
    "\n",
    "OPTIONS = {}\n",
    "\n",
    "USE_GOOGLE_DRIVE = True  #@param {type:\"boolean\"}\n",
    "UPDATE_COMFY_UI = True  #@param {type:\"boolean\"}\n",
    "USE_COMFYUI_MANAGER = True  #@param {type:\"boolean\"}\n",
    "INSTALL_CUSTOM_NODES_DEPENDENCIES = True  #@param {type:\"boolean\"}\n",
    "OPTIONS['USE_GOOGLE_DRIVE'] = USE_GOOGLE_DRIVE\n",
    "OPTIONS['UPDATE_COMFY_UI'] = UPDATE_COMFY_UI\n",
    "OPTIONS['USE_COMFYUI_MANAGER'] = USE_COMFYUI_MANAGER\n",
    "OPTIONS['INSTALL_CUSTOM_NODES_DEPENDENCIES'] = INSTALL_CUSTOM_NODES_DEPENDENCIES\n",
    "\n",
    "\n",
    "if OPTIONS['USE_GOOGLE_DRIVE']:\n",
    "    !echo \"Mounting Google Drive...\"\n",
    "\n",
    "    from google.colab import drive\n",
    "    drive.mount('/content/drive')\n",
    "\n",
    "    WORKSPACE = f\"{INSTALL_DIR}/ComfyUI\"\n",
    "    %cd $INSTALL_DIR"
   ]
  },
  {
   "cell_type": "code",
   "execution_count": null,
   "metadata": {},
   "outputs": [],
   "source": [
    "![ ! -d \"$WORKSPACE\" ] && echo -= Initial setup ComfyUI =- && git clone https://github.com/comfyanonymous/ComfyUI\n",
    "%cd \"$WORKSPACE\""
   ]
  },
  {
   "cell_type": "code",
   "execution_count": null,
   "metadata": {},
   "outputs": [],
   "source": [
    "if OPTIONS['UPDATE_COMFY_UI']:\n",
    "  !echo -= Updating ComfyUI =-\n",
    "\n",
    "  # Correction of the issue of permissions being deleted on Google Drive.\n",
    "  ![ -f \".ci/nightly/update_windows/update_comfyui_and_python_dependencies.bat\" ] && chmod 755 .ci/nightly/update_windows/update_comfyui_and_python_dependencies.bat\n",
    "  ![ -f \".ci/nightly/windows_base_files/run_nvidia_gpu.bat\" ] && chmod 755 .ci/nightly/windows_base_files/run_nvidia_gpu.bat\n",
    "  ![ -f \".ci/update_windows/update_comfyui_and_python_dependencies.bat\" ] && chmod 755 .ci/update_windows/update_comfyui_and_python_dependencies.bat\n",
    "  ![ -f \".ci/update_windows_cu118/update_comfyui_and_python_dependencies.bat\" ] && chmod 755 .ci/update_windows_cu118/update_comfyui_and_python_dependencies.bat\n",
    "  ![ -f \".ci/update_windows/update.py\" ] && chmod 755 .ci/update_windows/update.py\n",
    "  ![ -f \".ci/update_windows/update_comfyui.bat\" ] && chmod 755 .ci/update_windows/update_comfyui.bat\n",
    "  ![ -f \".ci/update_windows/README_VERY_IMPORTANT.txt\" ] && chmod 755 .ci/update_windows/README_VERY_IMPORTANT.txt\n",
    "  ![ -f \".ci/update_windows/run_cpu.bat\" ] && chmod 755 .ci/update_windows/run_cpu.bat\n",
    "  ![ -f \".ci/update_windows/run_nvidia_gpu.bat\" ] && chmod 755 .ci/update_windows/run_nvidia_gpu.bat\n",
    "\n",
    "  !git pull\n",
    "\n",
    "!echo -= Install dependencies =-\n",
    "!pip3 install accelerate\n",
    "!pip3 install einops transformers>=4.28.1 safetensors>=0.4.2 aiohttp pyyaml Pillow scipy tqdm psutil tokenizers>=0.13.3\n",
    "!pip3 install torch torchvision torchaudio --index-url https://download.pytorch.org/whl/cu121\n",
    "!pip3 install torchsde\n",
    "!pip3 install kornia>=0.7.1 spandrel soundfile sentencepiece\n",
    "\n",
    "if OPTIONS['USE_COMFYUI_MANAGER']:\n",
    "  %cd custom_nodes\n",
    "\n",
    "  # Correction of the issue of permissions being deleted on Google Drive.\n",
    "  ![ -f \"ComfyUI-Manager/check.sh\" ] && chmod 755 ComfyUI-Manager/check.sh\n",
    "  ![ -f \"ComfyUI-Manager/scan.sh\" ] && chmod 755 ComfyUI-Manager/scan.sh\n",
    "  ![ -f \"ComfyUI-Manager/node_db/dev/scan.sh\" ] && chmod 755 ComfyUI-Manager/node_db/dev/scan.sh\n",
    "  ![ -f \"ComfyUI-Manager/scripts/install-comfyui-venv-linux.sh\" ] && chmod 755 ComfyUI-Manager/scripts/install-comfyui-venv-linux.sh\n",
    "  ![ -f \"ComfyUI-Manager/scripts/install-comfyui-venv-win.bat\" ] && chmod 755 ComfyUI-Manager/scripts/install-comfyui-venv-win.bat\n",
    "\n",
    "  ![ ! -d ComfyUI-Manager ] && echo -= Initial setup ComfyUI-Manager =- && git clone https://github.com/ltdrdata/ComfyUI-Manager\n",
    "  %cd ComfyUI-Manager\n",
    "  !git pull\n",
    "\n",
    "%cd $WORKSPACE\n",
    "\n",
    "if OPTIONS['INSTALL_CUSTOM_NODES_DEPENDENCIES']:\n",
    "  !echo -= Install custom nodes dependencies =-\n",
    "  !pip install GitPython\n",
    "  !python custom_nodes/ComfyUI-Manager/cm-cli.py restore-dependencies"
   ]
  },
  {
   "cell_type": "markdown",
   "metadata": {},
   "source": [
    "# Model downloads"
   ]
  },
  {
   "cell_type": "code",
   "execution_count": null,
   "metadata": {},
   "outputs": [],
   "source": [
    "# FLUX.1-Fill-Dev\n",
    "\n",
    "# !wget --header=\"Authorization: Bearer ${HUGGING_FACE_HUB_TOKEN}\" \\\n",
    "#   -c \"https://huggingface.co/Comfy-Org/flux1-dev/resolve/main/flux1-dev-fp8.safetensors\" \\\n",
    "#   -P \"${COMFYUI_INSTALL_DIR}/models/checkpoints/\"\n",
    "\n",
    "# !wget --header=\"Authorization: Bearer ${HUGGING_FACE_HUB_TOKEN}\" \\\n",
    "#   -c \"https://huggingface.co/black-forest-labs/FLUX.1-Fill-dev/resolve/main/flux1-fill-dev.safetensors\" \\\n",
    "#   -P \"${COMFYUI_INSTALL_DIR}/models/unet/\"\n",
    "# !wget --header=\"Authorization: Bearer ${HUGGING_FACE_HUB_TOKEN}\" \\\n",
    "#   \"https://huggingface.co/comfyanonymous/flux_text_encoders/resolve/main/clip_l.safetensors\"  \\\n",
    "#   -P \"${COMFYUI_INSTALL_DIR}/models/clip/\"\n",
    "# !wget --header=\"Authorization: Bearer ${HUGGING_FACE_HUB_TOKEN}\" \\\n",
    "#   \"https://huggingface.co/comfyanonymous/flux_text_encoders/resolve/main/t5xxl_fp16.safetensors\" \\\n",
    "#   -P \"${COMFYUI_INSTALL_DIR}/models/clip/\"\n",
    "# !wget --header=\"Authorization: Bearer ${HUGGING_FACE_HUB_TOKEN}\" \\\n",
    "#   \"https://huggingface.co/black-forest-labs/FLUX.1-Fill-dev/resolve/main/ae.safetensors\" \\\n",
    "#   -P \"${COMFYUI_INSTALL_DIR}/models/vae/\"\n",
    "\n",
    "\n",
    "# FLUX.1-Fill-Dev-Q4_1.gguf\n",
    "\n",
    "# !wget --header=\"Authorization: Bearer ${HUGGING_FACE_HUB_TOKEN}\" \\\n",
    "#   \"https://huggingface.co/YarvixPA/FLUX.1-Fill-dev-gguf/resolve/main/flux1-fill-dev-Q4_1.gguf\" \\\n",
    "#   -P \"${COMFYUI_INSTALL_DIR}/models/unet/\"\n",
    "\n",
    "\n",
    "# FLUX.1-Turbo-Alpha (LORA)\n",
    "# !wget --header=\"Authorization: Bearer ${HUGGING_FACE_HUB_TOKEN}\" \\\n",
    "# https://huggingface.co/alimama-creative/FLUX.1-Turbo-Alpha/resolve/main/diffusion_pytorch_model.safetensors \\\n",
    "#   -P \"${COMFYUI_INSTALL_DIR}/models/loras/\"\n",
    "\n",
    "\n",
    "# FLUX.1-Controlnet\n",
    "\n",
    "# !wget --header=\"Authorization: Bearer ${HUGGING_FACE_HUB_TOKEN}\" \\\n",
    "# https://huggingface.co/alimama-creative/FLUX.1-dev-Controlnet-Inpainting-Beta/resolve/main/diffusion_pytorch_model.safetensors \\\n",
    "#   -P \"${COMFYUI_INSTALL_DIR}/models/controlnet/\"\n",
    "\n",
    "\n",
    "# Stable-Diffusion v2 Inpainting\n",
    "\n",
    "# !wget --header=\"Authorization: Bearer ${HUGGING_FACE_HUB_TOKEN}\" \\\n",
    "# https://huggingface.co/stabilityai/stable-diffusion-2-inpainting/resolve/main/512-inpainting-ema.safetensors \\\n",
    "#   -P \"${COMFYUI_INSTALL_DIR}/models/checkpoints/\""
   ]
  }
 ],
 "metadata": {
  "language_info": {
   "name": "python"
  }
 },
 "nbformat": 4,
 "nbformat_minor": 2
}
